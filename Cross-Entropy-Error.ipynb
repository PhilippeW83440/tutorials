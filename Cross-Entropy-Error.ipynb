{
 "cells": [
  {
   "cell_type": "markdown",
   "metadata": {},
   "source": [
    "# Classification error for a Neural Network"
   ]
  },
  {
   "cell_type": "markdown",
   "metadata": {},
   "source": [
    "## CE (Cross-Entropy) vs MSE (Mean Square Error)"
   ]
  },
  {
   "cell_type": "markdown",
   "metadata": {},
   "source": [
    "### Cross-Entropy Error for 1 sample with K outputs:\n",
    "\\begin{equation*}\n",
    "CE_1 = \\sum_{k=1}^K -y_{true}^{(k)} log(y_{predict}^{(k)}) \n",
    "\\end{equation*}"
   ]
  },
  {
   "cell_type": "markdown",
   "metadata": {},
   "source": [
    "What does it mean ? <br> $ y_{true}^{(k)} $ can only be equal to 0 or 1  \n",
    "So we are only concerned with how close the single predicted output that corresponds to the target value of 1, is to that value of 1.  \n",
    "That is to say: $CE_1=-log(y_{predict})$ for the target class where $y_{true}$ equals 1 (all other terms in the sum are equal to 0)    \n",
    "The closer $y_{predict}$ to 1, when 1 is expected, the lower the cross-entropy error  \n",
    "The CE error focuses on the class we should predict. Whereas with MSE error (as seen below), the error will be influenced by our scores for classes we should not predict"
   ]
  },
  {
   "cell_type": "markdown",
   "metadata": {},
   "source": [
    "### Mean Square Error for 1 sample with K outputs:\n",
    "\\begin{equation*}\n",
    "ME_1 = \\sum_{k=1}^K (y_{true}^{(k)} - y_{predict}^{(k)})^2 \n",
    "\\end{equation*}"
   ]
  },
  {
   "cell_type": "markdown",
   "metadata": {},
   "source": [
    "### Example: classifying 3 objects"
   ]
  },
  {
   "cell_type": "markdown",
   "metadata": {},
   "source": [
    "| Predicted     | target |\n",
    "| ------------- |:------:|\n",
    "| 0.1 0.3 0.6   | 0 0 1 |  \n",
    "| 0.2 0.6 0.2   | 0 1 0 |  \n",
    "| 0.3 0.4 0.3   | 1 0 0 |   "
   ]
  },
  {
   "cell_type": "markdown",
   "metadata": {},
   "source": [
    "$CE = (CE_1+CE_2+CE_3) / 3$  \n",
    "$CE_1=-log(0.6)=0.51$  \n",
    "$CE_2=-log(0.6)=0.51$  \n",
    "$CE_3=-log(0.3)=1.2$  \n",
    "$CE= 0.74$"
   ]
  },
  {
   "cell_type": "markdown",
   "metadata": {},
   "source": [
    "$ME=(ME_1+ME_2+ME_3)/3$  \n",
    "$ME_1=(0.1-0)^2+(0.3-0)^2+(0.6-1)^2=0.26$  \n",
    "$ME_2=(0.2-0)^2+(0.6-1)^2+(0.2-0)^2=0.24$  \n",
    "$ME_3=(0.3-1)^2+(0.4-0)^2+(0.3-0)^2=0.74$  \n",
    "$ME=0.41$"
   ]
  },
  {
   "cell_type": "markdown",
   "metadata": {},
   "source": [
    "CE Error is completely focused on our target classes.<br> Whereas MSE error is influenced by scores for all classes<br>"
   ]
  }
 ],
 "metadata": {
  "anaconda-cloud": {},
  "kernelspec": {
   "display_name": "Python [conda env:pythonx]",
   "language": "python",
   "name": "conda-env-pythonx-py"
  },
  "language_info": {
   "codemirror_mode": {
    "name": "ipython",
    "version": 3
   },
   "file_extension": ".py",
   "mimetype": "text/x-python",
   "name": "python",
   "nbconvert_exporter": "python",
   "pygments_lexer": "ipython3",
   "version": "3.5.2"
  }
 },
 "nbformat": 4,
 "nbformat_minor": 1
}
