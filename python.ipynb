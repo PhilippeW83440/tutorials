{
 "cells": [
  {
   "cell_type": "markdown",
   "metadata": {},
   "source": [
    "# Basics of Python3"
   ]
  },
  {
   "cell_type": "markdown",
   "metadata": {},
   "source": [
    "All data are represented by objects:\n",
    "    - mutable\n",
    "    - immutable\n",
    "\n",
    "Python object:\n",
    "    - type: number, string, list, ...\n",
    "    - value\n",
    "    - id: each different object in memory will have its own id number\n",
    "\n",
    "Attributes: data and functions (methods)"
   ]
  },
  {
   "cell_type": "code",
   "execution_count": 422,
   "metadata": {
    "collapsed": false
   },
   "outputs": [
    {
     "name": "stdout",
     "output_type": "stream",
     "text": [
      "3.33333333333\n",
      "(3,)\n"
     ]
    }
   ],
   "source": [
    "import numpy as np\n",
    "x = np.array([1,4,5])\n",
    "print(x.mean())\n",
    "print(x.shape)"
   ]
  },
  {
   "cell_type": "code",
   "execution_count": 423,
   "metadata": {
    "collapsed": false
   },
   "outputs": [
    {
     "name": "stdout",
     "output_type": "stream",
     "text": [
      "1.0\n",
      "[ 1.          2.          2.23606798]\n",
      "6\n"
     ]
    }
   ],
   "source": [
    "import math\n",
    "print(math.sin(math.pi/2))\n",
    "print(np.sqrt(x))\n",
    "print(math.factorial(3))"
   ]
  },
  {
   "cell_type": "code",
   "execution_count": 424,
   "metadata": {
    "collapsed": false
   },
   "outputs": [
    {
     "data": {
      "text/plain": [
       "2"
      ]
     },
     "execution_count": 424,
     "metadata": {},
     "output_type": "execute_result"
    }
   ],
   "source": [
    "15//7"
   ]
  },
  {
   "cell_type": "code",
   "execution_count": 425,
   "metadata": {
    "collapsed": false
   },
   "outputs": [
    {
     "name": "stdout",
     "output_type": "stream",
     "text": [
      "Help on built-in function upper:\n",
      "\n",
      "upper(...) method of builtins.str instance\n",
      "    S.upper() -> str\n",
      "    \n",
      "    Return a copy of S converted to uppercase.\n",
      "\n"
     ]
    }
   ],
   "source": [
    "name=\"any\"\n",
    "type(name)\n",
    "dir(name) # help\n",
    "dir(str) # help\n",
    "help(name.upper) # help"
   ]
  },
  {
   "cell_type": "code",
   "execution_count": 426,
   "metadata": {
    "collapsed": false
   },
   "outputs": [
    {
     "data": {
      "text/plain": [
       "'cc'"
      ]
     },
     "execution_count": 426,
     "metadata": {},
     "output_type": "execute_result"
    }
   ],
   "source": [
    "import random\n",
    "random.choice([\"aa\",\"bb\",\"cc\"])"
   ]
  },
  {
   "cell_type": "code",
   "execution_count": 427,
   "metadata": {
    "collapsed": false
   },
   "outputs": [
    {
     "name": "stdout",
     "output_type": "stream",
     "text": [
      "True\n",
      "True\n",
      "False\n"
     ]
    }
   ],
   "source": [
    "a=2\n",
    "b=2\n",
    "print(a==b);print(a is b);\n",
    "b+=1;print(a is b);"
   ]
  },
  {
   "cell_type": "markdown",
   "metadata": {},
   "source": [
    "# Sequences"
   ]
  },
  {
   "cell_type": "markdown",
   "metadata": {},
   "source": [
    "## Lists"
   ]
  },
  {
   "cell_type": "markdown",
   "metadata": {},
   "source": [
    "Lists: MUTABLE, sequences of any type of Python objects but common to hold objects of just 1 type"
   ]
  },
  {
   "cell_type": "markdown",
   "metadata": {},
   "source": [
    "Slicing S[0:4], range(0,4) ... starts at 0 (included), stops at 4 (not included)"
   ]
  },
  {
   "cell_type": "code",
   "execution_count": 428,
   "metadata": {
    "collapsed": false
   },
   "outputs": [
    {
     "name": "stdout",
     "output_type": "stream",
     "text": [
      "[2, 4, 6, 8, 10, 12, 14, 16]\n"
     ]
    }
   ],
   "source": [
    "numbers=[2,4,6,8];numbers[0];numbers[-1]\n",
    "numbers.append(10)\n",
    "x=[12,14,16]\n",
    "print(numbers+x)"
   ]
  },
  {
   "cell_type": "code",
   "execution_count": 429,
   "metadata": {
    "collapsed": false
   },
   "outputs": [
    {
     "name": "stdout",
     "output_type": "stream",
     "text": [
      "['Zofia', 'Alex', 'Morgan', 'Anthony']\n",
      "['Alex', 'Anthony', 'Morgan', 'Zofia']\n",
      "['Zofia', 'Alex', 'Morgan', 'Anthony']\n",
      "['Alex', 'Anthony', 'Morgan', 'Zofia']\n"
     ]
    }
   ],
   "source": [
    "names=[\"Zofia\", \"Alex\", \"Morgan\", \"Anthony\"]\n",
    "print(names);print(sorted(names))\n",
    "print(names);names.sort();print(names)"
   ]
  },
  {
   "cell_type": "markdown",
   "metadata": {},
   "source": [
    "## Tuples"
   ]
  },
  {
   "cell_type": "markdown",
   "metadata": {},
   "source": [
    "Immutable sequences (can not append)\n",
    "Typically used to store heterogeneous data\n",
    "When you want to return more than 1 object from your Python function"
   ]
  },
  {
   "cell_type": "code",
   "execution_count": 430,
   "metadata": {
    "collapsed": false
   },
   "outputs": [
    {
     "name": "stdout",
     "output_type": "stream",
     "text": [
      "(1, 3, 5, 7, 9, 11)\n",
      "(12.23, 23.34)\n",
      "c1= 12.23\n"
     ]
    }
   ],
   "source": [
    "t=(1,3,5,7)\n",
    "t+=(9,11)\n",
    "print(t)\n",
    "\n",
    "# Tuple packing\n",
    "x=12.23\n",
    "y=23.34\n",
    "coordinate=(x,y)\n",
    "print(coordinate)\n",
    "\n",
    "# Tuple unpacking\n",
    "(c1,c2)=coordinate\n",
    "print(\"c1=\",c1)"
   ]
  },
  {
   "cell_type": "code",
   "execution_count": 431,
   "metadata": {
    "collapsed": false
   },
   "outputs": [
    {
     "name": "stdout",
     "output_type": "stream",
     "text": [
      "0 0\n",
      "1 1\n",
      "2 4\n",
      "3 9\n",
      "4 16\n"
     ]
    }
   ],
   "source": [
    "coordinates=[(0,0),(1,1),(2,4),(3,9),(4,16)] # a list of tuples\n",
    "for (x,y) in coordinates: # unpacking the tuples\n",
    "    print(x,y)"
   ]
  },
  {
   "cell_type": "markdown",
   "metadata": {},
   "source": [
    "## Ranges"
   ]
  },
  {
   "cell_type": "markdown",
   "metadata": {},
   "source": [
    "Immutable sequences of integers"
   ]
  },
  {
   "cell_type": "code",
   "execution_count": 432,
   "metadata": {
    "collapsed": false
   },
   "outputs": [
    {
     "name": "stdout",
     "output_type": "stream",
     "text": [
      "[1, 3, 5, 7, 9, 11]\n"
     ]
    }
   ],
   "source": [
    "print(list(range(1,13,2)))"
   ]
  },
  {
   "cell_type": "markdown",
   "metadata": {},
   "source": [
    "## Strings "
   ]
  },
  {
   "cell_type": "markdown",
   "metadata": {},
   "source": [
    "Immutable sequences: dir(str)"
   ]
  },
  {
   "cell_type": "code",
   "execution_count": 433,
   "metadata": {
    "collapsed": false
   },
   "outputs": [
    {
     "name": "stdout",
     "output_type": "stream",
     "text": [
      "hello hello \n",
      "tinna Fey\n"
     ]
    },
    {
     "data": {
      "text/plain": [
       "list"
      ]
     },
     "execution_count": 433,
     "metadata": {},
     "output_type": "execute_result"
    }
   ],
   "source": [
    "\"eigt equals \" + str(8)\n",
    "print(\"hello \" * 2)\n",
    "name=\"Tinna Fey\"\n",
    "new_name = name.replace(\"T\", \"t\") # strings are immutable so Python returns a new string\n",
    "print(new_name)\n",
    "names = name.split(\" \")\n",
    "type(names)"
   ]
  },
  {
   "cell_type": "code",
   "execution_count": 434,
   "metadata": {
    "collapsed": false
   },
   "outputs": [
    {
     "data": {
      "text/plain": [
       "'0123456789'"
      ]
     },
     "execution_count": 434,
     "metadata": {},
     "output_type": "execute_result"
    }
   ],
   "source": [
    "\"\".join([str(i) for i in range(10)])"
   ]
  },
  {
   "cell_type": "code",
   "execution_count": 435,
   "metadata": {
    "collapsed": false
   },
   "outputs": [
    {
     "data": {
      "text/plain": [
       "'0123456789'"
      ]
     },
     "execution_count": 435,
     "metadata": {},
     "output_type": "execute_result"
    }
   ],
   "source": [
    "import string\n",
    "string.digits"
   ]
  },
  {
   "cell_type": "markdown",
   "metadata": {},
   "source": [
    "## Sets "
   ]
  },
  {
   "cell_type": "markdown",
   "metadata": {},
   "source": [
    "Unordered collections of distinct hashable objects:\n",
    "    - set: mutable\n",
    "    - frozen set: immutable\n",
    "They can not ben indexed. No duplicates\n",
    "\n",
    "Maths:$\\cup \\cap \\setminus$ -> Python: | & -"
   ]
  },
  {
   "cell_type": "code",
   "execution_count": 436,
   "metadata": {
    "collapsed": false
   },
   "outputs": [
    {
     "name": "stdout",
     "output_type": "stream",
     "text": [
      "{1, 2, 3, 4, 5, 6, 7, 10}\n"
     ]
    }
   ],
   "source": [
    "# ids=set()\n",
    "ids=set([1,1,2,3,4,5,4,6,7])\n",
    "ids.add(10)\n",
    "ids.add(2) # ndoes not change anything\n",
    "print(ids)"
   ]
  },
  {
   "cell_type": "code",
   "execution_count": 437,
   "metadata": {
    "collapsed": false
   },
   "outputs": [
    {
     "name": "stdout",
     "output_type": "stream",
     "text": [
      "{1, 4}\n"
     ]
    }
   ],
   "source": [
    "x={1,2,3};y={2,3,4}\n",
    "z=(x|y)-(x&y)\n",
    "print(z)"
   ]
  },
  {
   "cell_type": "markdown",
   "metadata": {},
   "source": [
    "## Dictionaries "
   ]
  },
  {
   "cell_type": "markdown",
   "metadata": {},
   "source": [
    "Very fast look up on unordered data: key-value pairs\n",
    "    - key: immutable\n",
    "    - value: mutable\n",
    "dict are mutable objects"
   ]
  },
  {
   "cell_type": "code",
   "execution_count": 438,
   "metadata": {
    "collapsed": true
   },
   "outputs": [],
   "source": [
    "age={\"Tim\":29, \"Jim\":31, \"Pan\":27, \"Sam\":35}\n",
    "age[\"Pan\"] += 1"
   ]
  },
  {
   "cell_type": "markdown",
   "metadata": {},
   "source": [
    "View object: \n",
    "    - provide a dynamic view of the keys or values in the dictionary\n",
    "      i.e. content of view object changes automatically"
   ]
  },
  {
   "cell_type": "code",
   "execution_count": 439,
   "metadata": {
    "collapsed": false
   },
   "outputs": [
    {
     "name": "stdout",
     "output_type": "stream",
     "text": [
      "dict_keys(['Pan', 'Sam', 'Jim', 'Tim'])\n",
      "dict_keys(['Pan', 'Sam', 'Tom', 'Jim', 'Tim'])\n",
      "[28, 35, 15, 31, 29]\n",
      "True\n",
      "False\n"
     ]
    }
   ],
   "source": [
    "names=age.keys()\n",
    "print(names)\n",
    "age[\"Tom\"]=15\n",
    "print(names)\n",
    "ages=age.values()\n",
    "print(list(ages))\n",
    "print(\"Tom\" in age)\n",
    "print(\"Zofia\" in age)"
   ]
  },
  {
   "cell_type": "markdown",
   "metadata": {},
   "source": [
    "# Manipulating objects"
   ]
  },
  {
   "cell_type": "markdown",
   "metadata": {},
   "source": [
    "## Dynamic Typing "
   ]
  },
  {
   "cell_type": "markdown",
   "metadata": {},
   "source": [
    "Variable names space pointing to Object space via references\n",
    "x=3\n",
    "1) create object: 3\n",
    "2) create variable name: x\n",
    "3) insert a reference"
   ]
  },
  {
   "cell_type": "markdown",
   "metadata": {},
   "source": [
    "With IMMUTABLE objects\n",
    "x=3 (x->3)\n",
    "y=x (y->3)\n",
    "y=y-1 (object 2 is created; y->2)"
   ]
  },
  {
   "cell_type": "markdown",
   "metadata": {},
   "source": [
    "With MUTABLE objects:"
   ]
  },
  {
   "cell_type": "code",
   "execution_count": 440,
   "metadata": {
    "collapsed": false
   },
   "outputs": [
    {
     "data": {
      "text/plain": [
       "([666, 2], [666, 2])"
      ]
     },
     "execution_count": 440,
     "metadata": {},
     "output_type": "execute_result"
    }
   ],
   "source": [
    "x=[1,2]\n",
    "y=x\n",
    "y[0]=666\n",
    "x,y"
   ]
  },
  {
   "cell_type": "markdown",
   "metadata": {},
   "source": [
    "Object in Python: type, value (checked with ==), identity (checked with is)"
   ]
  },
  {
   "cell_type": "code",
   "execution_count": 453,
   "metadata": {
    "collapsed": false
   },
   "outputs": [
    {
     "data": {
      "text/plain": [
       "(True, False)"
      ]
     },
     "execution_count": 453,
     "metadata": {},
     "output_type": "execute_result"
    }
   ],
   "source": [
    "L=[1,2,3]\n",
    "M=[1,2,3]\n",
    "L==M, L is M"
   ]
  },
  {
   "cell_type": "markdown",
   "metadata": {},
   "source": [
    "M=L: reference same object\n",
    "M=L[:]: a new object with same content is created"
   ]
  },
  {
   "cell_type": "markdown",
   "metadata": {},
   "source": [
    "## Copies "
   ]
  },
  {
   "cell_type": "markdown",
   "metadata": {},
   "source": [
    "shallow copy (by default): constructs a new compound object and then insert its references into it to the original object\n",
    "\n",
    "deep copy: constructs a new compound object and then recursively inserts copies into it of the original objects"
   ]
  },
  {
   "cell_type": "code",
   "execution_count": 442,
   "metadata": {
    "collapsed": false
   },
   "outputs": [
    {
     "name": "stdout",
     "output_type": "stream",
     "text": [
      "[666, [2]] [666, [2]] [1, [2]] [1, [2]]\n",
      "[666, [2, 33]] [666, [2, 33]] [1, [2, 33]] [1, [2]]\n"
     ]
    }
   ],
   "source": [
    "import copy\n",
    "x=[1, [2]]\n",
    "w=x\n",
    "y=copy.copy(x) # shallow\n",
    "z=copy.deepcopy(x) # deep\n",
    "x[0]=666\n",
    "print(x,w,y,z)\n",
    "x[1].append(33)\n",
    "print(x,w,y,z)"
   ]
  },
  {
   "cell_type": "markdown",
   "metadata": {},
   "source": [
    "## Statements"
   ]
  },
  {
   "cell_type": "code",
   "execution_count": 443,
   "metadata": {
    "collapsed": false
   },
   "outputs": [],
   "source": [
    "x=-9;y=-7\n",
    "if x > y:\n",
    "    absval=x-y\n",
    "elif y > x:\n",
    "    absval=y-x\n",
    "else:\n",
    "    absval=0"
   ]
  },
  {
   "cell_type": "markdown",
   "metadata": {},
   "source": [
    "## For and while loops "
   ]
  },
  {
   "cell_type": "code",
   "execution_count": 444,
   "metadata": {
    "collapsed": false
   },
   "outputs": [
    {
     "name": "stdout",
     "output_type": "stream",
     "text": [
      "0\n",
      "1\n",
      "2\n"
     ]
    }
   ],
   "source": [
    "for x in range(3):\n",
    "    print(x)"
   ]
  },
  {
   "cell_type": "code",
   "execution_count": 445,
   "metadata": {
    "collapsed": false
   },
   "outputs": [
    {
     "name": "stdout",
     "output_type": "stream",
     "text": [
      "Jime\n",
      "Tom\n",
      "Nick\n"
     ]
    }
   ],
   "source": [
    "names=['Jime','Tom','Nick']\n",
    "for name in names:\n",
    "    print(name)"
   ]
  },
  {
   "cell_type": "code",
   "execution_count": 446,
   "metadata": {
    "collapsed": false
   },
   "outputs": [
    {
     "name": "stdout",
     "output_type": "stream",
     "text": [
      "Tim 31\n",
      "Pam 27\n",
      "Nick 31\n"
     ]
    }
   ],
   "source": [
    "age={'Tim':31, 'Nick':31, 'Pam':27}\n",
    "for name in sorted(age.keys(), reverse=True):\n",
    "    print(name, age[name])"
   ]
  },
  {
   "cell_type": "markdown",
   "metadata": {},
   "source": [
    "while: unknmown #iters\n",
    "for: known #iters"
   ]
  },
  {
   "cell_type": "markdown",
   "metadata": {},
   "source": [
    "## List comprehensions "
   ]
  },
  {
   "cell_type": "markdown",
   "metadata": {},
   "source": [
    "Quickly and elegantly apply an operation to all items in a list"
   ]
  },
  {
   "cell_type": "code",
   "execution_count": 447,
   "metadata": {
    "collapsed": false
   },
   "outputs": [
    {
     "name": "stdout",
     "output_type": "stream",
     "text": [
      "[0, 1, 4, 9, 16]\n"
     ]
    }
   ],
   "source": [
    "squares=[x**2 for x in range(5)] # very fast\n",
    "print(squares)"
   ]
  },
  {
   "cell_type": "code",
   "execution_count": 448,
   "metadata": {
    "collapsed": false
   },
   "outputs": [
    {
     "data": {
      "text/plain": [
       "25"
      ]
     },
     "execution_count": 448,
     "metadata": {},
     "output_type": "execute_result"
    }
   ],
   "source": [
    "sum([x for x in range(10) if x%2==1]) # 1+3+5+7+9"
   ]
  },
  {
   "cell_type": "markdown",
   "metadata": {},
   "source": [
    "## Reading and writing files"
   ]
  },
  {
   "cell_type": "code",
   "execution_count": 449,
   "metadata": {
    "collapsed": false,
    "scrolled": true
   },
   "outputs": [
    {
     "name": "stdout",
     "output_type": "stream",
     "text": [
      "['her_A557_test3_angA_1m2_scc_rec_:']\n",
      "['---------------------------------']\n",
      "['hey', 'cortana', 'take', 'a', 'note', 'bring', 'a', 'book', 'and', 'a', 'chair', 'to', 'the', 'beach', 'this', 'week-end']\n",
      "['can', 'you', 'play', 'billy', 'joe', 'piano']\n",
      "['any', 'news', 'about', 'morgus']\n",
      "['can', 'you', 'find', 'backup', 'settings']\n"
     ]
    }
   ],
   "source": [
    "filename=\"input.txt\"\n",
    "for line in open(filename):\n",
    "    line = line.rstrip() # extract LF + reassignment bcz strings are immutable\n",
    "    words = line.split(\" \")\n",
    "    print(words)"
   ]
  },
  {
   "cell_type": "code",
   "execution_count": 450,
   "metadata": {
    "collapsed": true
   },
   "outputs": [],
   "source": [
    "f=open(\"output.txt\", \"w\")\n",
    "f.write(\"Python\\n\")\n",
    "f.close()"
   ]
  },
  {
   "cell_type": "markdown",
   "metadata": {},
   "source": [
    "## Functions "
   ]
  },
  {
   "cell_type": "markdown",
   "metadata": {},
   "source": [
    "Functions are objects => you may set 2 different function names for the same (not recommended)"
   ]
  },
  {
   "cell_type": "markdown",
   "metadata": {},
   "source": [
    "Arguments are passed by assigning objects to local names"
   ]
  },
  {
   "cell_type": "code",
   "execution_count": 451,
   "metadata": {
    "collapsed": false
   },
   "outputs": [
    {
     "name": "stdout",
     "output_type": "stream",
     "text": [
      "[10, 3, 5, 7, 9]\n"
     ]
    }
   ],
   "source": [
    "def modify(mylist):\n",
    "    mylist[0] *= 10\n",
    "\n",
    "L=[1,3,5,7,9]\n",
    "modify(L)\n",
    "print(L)"
   ]
  }
 ],
 "metadata": {
  "anaconda-cloud": {},
  "kernelspec": {
   "display_name": "Python [conda env:pythonx]",
   "language": "python",
   "name": "conda-env-pythonx-py"
  },
  "language_info": {
   "codemirror_mode": {
    "name": "ipython",
    "version": 3
   },
   "file_extension": ".py",
   "mimetype": "text/x-python",
   "name": "python",
   "nbconvert_exporter": "python",
   "pygments_lexer": "ipython3",
   "version": "3.5.2"
  }
 },
 "nbformat": 4,
 "nbformat_minor": 1
}
